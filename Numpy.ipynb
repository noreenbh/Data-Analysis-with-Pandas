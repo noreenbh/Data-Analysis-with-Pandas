{
 "cells": [
  {
   "cell_type": "markdown",
   "id": "752e4047-1d35-4453-aca3-2c0cf836567f",
   "metadata": {},
   "source": [
    " # NumPy Array Operations"
   ]
  },
  {
   "cell_type": "markdown",
   "id": "1362d52c-5fe5-4034-bdcf-18784532fa63",
   "metadata": {},
   "source": [
    "#### You will create and manipulate NumPy arrays, exploring various operations, indexing, and statistical functions.\n"
   ]
  },
  {
   "cell_type": "markdown",
   "id": "abf00ab3-088e-4053-a49e-8689465c965d",
   "metadata": {},
   "source": [
    "#### Task 01 : Create a NumPy Array => Initialize a NumPy array with a set of values."
   ]
  },
  {
   "cell_type": "code",
   "execution_count": 14,
   "id": "6ecd9aef-04ed-4c91-b952-394548efbd8a",
   "metadata": {},
   "outputs": [
    {
     "name": "stdout",
     "output_type": "stream",
     "text": [
      "Array : [101  42  36  45  95  44  78  63  72]\n"
     ]
    }
   ],
   "source": [
    "import numpy as np\n",
    "\n",
    "#create a numpy array\n",
    "\n",
    "array = np.array([101,42,36,45,95,44,78,63,72])\n",
    "\n",
    "print(f\"Array : {array}\")"
   ]
  },
  {
   "cell_type": "markdown",
   "id": "2a9af13e-b153-409e-94ef-b25690a5e1bb",
   "metadata": {},
   "source": [
    "#### Task 02 : Perform Basic Operations = Execute addition, subtraction, multiplication, and division on your array."
   ]
  },
  {
   "cell_type": "code",
   "execution_count": 15,
   "id": "772a2a7f-65e3-43ee-b25d-d6965ec77ce6",
   "metadata": {},
   "outputs": [
    {
     "name": "stdout",
     "output_type": "stream",
     "text": [
      "Addition : [121  62  56  65 115  64  98  83  92]\n",
      "Substraction : [100  41  35  44  94  43  77  62  71]\n",
      "Multiplication : [303 126 108 135 285 132 234 189 216]\n",
      "division : [50 21 18 22 47 22 39 31 36]\n"
     ]
    }
   ],
   "source": [
    "addition = array + 20\n",
    "substraction = array - 1\n",
    "multiplication = array * 3\n",
    "division = array // 2\n",
    "\n",
    "print(f\"Addition : {addition}\")\n",
    "print(f\"Substraction : {substraction}\")\n",
    "print(f\"Multiplication : {multiplication}\")\n",
    "print(f\"division : {division}\")"
   ]
  },
  {
   "cell_type": "markdown",
   "id": "ffcb2e98-a5ce-452e-afa6-0909d040ac5b",
   "metadata": {},
   "source": [
    "#### Task 03 : Indexing and Slicing => Access specific elements and subsets of the array using indexing and slicing techniques.\n",
    "\n",
    "\n"
   ]
  },
  {
   "cell_type": "code",
   "execution_count": 22,
   "id": "e279a4f2-6973-4568-9c0b-24c894db0332",
   "metadata": {},
   "outputs": [
    {
     "data": {
      "text/plain": [
       "array([101,  42,  36,  45,  95,  44,  78,  63,  72])"
      ]
     },
     "execution_count": 22,
     "metadata": {},
     "output_type": "execute_result"
    }
   ],
   "source": [
    "array"
   ]
  },
  {
   "cell_type": "code",
   "execution_count": 23,
   "id": "ae3b6d69-0a54-40ef-b86d-0306029ddd3d",
   "metadata": {},
   "outputs": [
    {
     "data": {
      "text/plain": [
       "9"
      ]
     },
     "execution_count": 23,
     "metadata": {},
     "output_type": "execute_result"
    }
   ],
   "source": [
    "len(array)"
   ]
  },
  {
   "cell_type": "code",
   "execution_count": 29,
   "id": "da33c246-4353-4058-afc4-b3ed1fbaba07",
   "metadata": {},
   "outputs": [
    {
     "name": "stdout",
     "output_type": "stream",
     "text": [
      "Element at index 4: 95\n",
      "Element at index 8: 36\n",
      "Sliced Array (elements 3 to 6): [45 95 44 78]\n",
      "Sliced Array (elements 1 to 9 with 2 jumps): [101  36  95  78  72]\n"
     ]
    }
   ],
   "source": [
    "# access single element from array\n",
    "print(\"Element at index 4:\", array[4]) \n",
    "print(\"Element at index 8:\", array[2])\n",
    "\n",
    "# access subset\n",
    "print(\"Sliced Array (elements 3 to 6):\", array[3:7])  \n",
    "print(\"Sliced Array (elements 1 to 9 with 2 jumps):\", array[::2])  "
   ]
  },
  {
   "cell_type": "markdown",
   "id": "cf102d99-c618-462d-b4c2-5fb3512666d3",
   "metadata": {},
   "source": [
    "#### Task 04 : Reshaping and Transposing: => Reshape the array into different dimensions.Transpose the matrix and observe the changes.\n"
   ]
  },
  {
   "cell_type": "code",
   "execution_count": 54,
   "id": "e8e8bbca-618b-4108-8367-114449a61216",
   "metadata": {},
   "outputs": [
    {
     "data": {
      "text/plain": [
       "array([[11, 33, 55, 66, 42],\n",
       "       [ 5, 13, 51,  6,  4],\n",
       "       [ 1,  2,  8,  3,  4]])"
      ]
     },
     "execution_count": 54,
     "metadata": {},
     "output_type": "execute_result"
    }
   ],
   "source": [
    "array1 = np.array([[11,33,55,66,42],[5,13,51,6,4],[1,2,8,3,4]])\n",
    "array1"
   ]
  },
  {
   "cell_type": "code",
   "execution_count": 56,
   "id": "d51fe7a8-9441-42ff-a8ad-b56838694c40",
   "metadata": {},
   "outputs": [
    {
     "name": "stdout",
     "output_type": "stream",
     "text": [
      "Reshaped Array:\n",
      " [[11 33 55]\n",
      " [66 42  5]\n",
      " [13 51  6]\n",
      " [ 4  1  2]\n",
      " [ 8  3  4]]\n",
      "Transposed Array:\n",
      " [[11 66 13  4  8]\n",
      " [33 42 51  1  3]\n",
      " [55  5  6  2  4]]\n"
     ]
    }
   ],
   "source": [
    "reshaped_array = array1.reshape(5, 3)\n",
    "print(\"Reshaped Array:\\n\", reshaped_array)\n",
    "\n",
    "transposed_array = reshaped_array.T\n",
    "print(\"Transposed Array:\\n\", transposed_array)"
   ]
  },
  {
   "cell_type": "markdown",
   "id": "628c31c4-71e9-4f72-b41f-1e2dbb916dad",
   "metadata": {},
   "source": [
    "#### Task 05 : Statistical Calculations => Utilize NumPy functions to calculate: Mean, Median, Standard deviation, Variance"
   ]
  },
  {
   "cell_type": "code",
   "execution_count": 57,
   "id": "bd45472a-c896-462b-ae68-0f31e48c40dc",
   "metadata": {},
   "outputs": [
    {
     "data": {
      "text/plain": [
       "array([101,  42,  36,  45,  95,  44,  78,  63,  72])"
      ]
     },
     "execution_count": 57,
     "metadata": {},
     "output_type": "execute_result"
    }
   ],
   "source": [
    "array"
   ]
  },
  {
   "cell_type": "code",
   "execution_count": 60,
   "id": "762e4042-0284-4d55-92ce-b2d6ffa36d7d",
   "metadata": {},
   "outputs": [
    {
     "name": "stdout",
     "output_type": "stream",
     "text": [
      "Mean: 64.0\n",
      "Median: 63.0\n",
      "Standard Deviation: 22.65686062395524\n",
      "Variance: 513.3333333333334\n"
     ]
    }
   ],
   "source": [
    "mean = np.mean(array)\n",
    "median = np.median(array)\n",
    "std_dev = np.std(array)\n",
    "variance = np.var(array)\n",
    "\n",
    "print(\"Mean:\", mean)\n",
    "print(\"Median:\", median)\n",
    "print(\"Standard Deviation:\", std_dev)\n",
    "print(\"Variance:\", variance)"
   ]
  },
  {
   "cell_type": "markdown",
   "id": "259e96ea-9061-4a98-812d-8a5970291dad",
   "metadata": {},
   "source": [
    "#### Task 06 : Create Arrays with Different Data Types => Construct arrays with varying data types such as integers, floats, booleans, and strings."
   ]
  },
  {
   "cell_type": "code",
   "execution_count": 62,
   "id": "e715f2a7-60b5-45c1-b45d-d16978632548",
   "metadata": {},
   "outputs": [
    {
     "name": "stdout",
     "output_type": "stream",
     "text": [
      "Integer Array: [1 2 3]\n",
      "Float Array: [1.  2.5 3.8]\n",
      "Boolean Array: [ True False  True]\n",
      "String Array: ['a' 'b' 'c']\n"
     ]
    }
   ],
   "source": [
    "int_array = np.array([1, 2, 3], dtype=int)\n",
    "float_array = np.array([1.0, 2.5, 3.8], dtype=float)\n",
    "bool_array = np.array([True, False, True], dtype=bool)\n",
    "str_array = np.array(['a', 'b', 'c'], dtype=str)\n",
    "\n",
    "print(\"Integer Array:\", int_array)\n",
    "print(\"Float Array:\", float_array)\n",
    "print(\"Boolean Array:\", bool_array)\n",
    "print(\"String Array:\", str_array)"
   ]
  },
  {
   "cell_type": "markdown",
   "id": "ae40d419-6842-4b7f-962e-6e15db32aa65",
   "metadata": {},
   "source": [
    "#### Task 07 : Concatenate Arrays => Combine multiple arrays into a single array.\n"
   ]
  },
  {
   "cell_type": "code",
   "execution_count": 76,
   "id": "25ebf2ba-dcaa-42ac-8b9d-da120a3bbc4c",
   "metadata": {},
   "outputs": [
    {
     "data": {
      "text/plain": [
       "array([[11, 33, 55, 66, 42],\n",
       "       [ 5, 13, 51,  6,  4],\n",
       "       [ 1,  2,  8,  3,  4]])"
      ]
     },
     "execution_count": 76,
     "metadata": {},
     "output_type": "execute_result"
    }
   ],
   "source": [
    "array1"
   ]
  },
  {
   "cell_type": "code",
   "execution_count": 77,
   "id": "47b9786a-ffb5-454f-9fb1-4cf55f97fd76",
   "metadata": {},
   "outputs": [
    {
     "data": {
      "text/plain": [
       "array([[1, 3, 5, 6, 4],\n",
       "       [5, 1, 8, 1, 9],\n",
       "       [1, 2, 8, 3, 4]])"
      ]
     },
     "execution_count": 77,
     "metadata": {},
     "output_type": "execute_result"
    }
   ],
   "source": [
    "array3 = np.array([[1, 3, 5, 6, 4],[ 5, 1, 8,  1,  9],[ 1,  2,  8,  3,  4]])\n",
    "array3"
   ]
  },
  {
   "cell_type": "code",
   "execution_count": 79,
   "id": "8a8c830d-7f7c-4dbb-98e5-5d68dd1d36cb",
   "metadata": {},
   "outputs": [
    {
     "name": "stdout",
     "output_type": "stream",
     "text": [
      "Concatenated Array : [[11 33 55 66 42]\n",
      " [ 5 13 51  6  4]\n",
      " [ 1  2  8  3  4]\n",
      " [ 1  3  5  6  4]\n",
      " [ 5  1  8  1  9]\n",
      " [ 1  2  8  3  4]]\n"
     ]
    }
   ],
   "source": [
    "concatenated_array = np.concatenate((array1, array3))\n",
    "print(f\"Concatenated Array : {concatenated_array}\")"
   ]
  },
  {
   "cell_type": "markdown",
   "id": "69613162-1a08-49cc-a1ae-7942f0b25b74",
   "metadata": {},
   "source": [
    "#### Task 08 : Sort Arrays => Sort your arrays in both ascending and descending order.\n"
   ]
  },
  {
   "cell_type": "code",
   "execution_count": 82,
   "id": "3cba523a-f334-431f-bb10-c7f64de2e24c",
   "metadata": {},
   "outputs": [
    {
     "name": "stdout",
     "output_type": "stream",
     "text": [
      "Sorted Array (Ascending): [ 10  28  40  58  65  96  98 101]\n",
      "Sorted Array (Descending): [101  98  96  65  58  40  28  10]\n"
     ]
    }
   ],
   "source": [
    "unsorted_array = np.array([58, 28, 98, 101, 65, 96, 40,10])\n",
    "sorted_array_asc = np.sort(unsorted_array)\n",
    "sorted_array_desc = np.sort(unsorted_array)[::-1]\n",
    "\n",
    "print(\"Sorted Array (Ascending):\", sorted_array_asc)\n",
    "print(\"Sorted Array (Descending):\", sorted_array_desc)"
   ]
  }
 ],
 "metadata": {
  "kernelspec": {
   "display_name": "Python 3 (ipykernel)",
   "language": "python",
   "name": "python3"
  },
  "language_info": {
   "codemirror_mode": {
    "name": "ipython",
    "version": 3
   },
   "file_extension": ".py",
   "mimetype": "text/x-python",
   "name": "python",
   "nbconvert_exporter": "python",
   "pygments_lexer": "ipython3",
   "version": "3.12.4"
  }
 },
 "nbformat": 4,
 "nbformat_minor": 5
}
